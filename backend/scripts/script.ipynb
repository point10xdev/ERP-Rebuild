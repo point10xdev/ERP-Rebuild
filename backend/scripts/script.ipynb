{
 "cells": [
  {
   "cell_type": "code",
   "execution_count": 7,
   "metadata": {},
   "outputs": [
    {
     "name": "stdout",
     "output_type": "stream",
     "text": [
      "Supervisors not found in employee list:\n",
      "['faisal qayoom mir', 'shashikant kumar', 'mohammad noor salam khan', 'moiz khan', 'bonasi krishna srihari', 'shrikant s maktedar', 'jignesh v rohit', 's a shah', 'hamida-tun-nisa- chisti', 'manzoor ahmad tantray', 'javaid ahmad bhat', 's kaiser bukhari', 's r shah', 'mohammad yousuf shah', 'sandeep samantaray', 'parmaeshwar h', 'r sagadevan', 'dasari karthik', 'dr ritesh ingale', 'venkateshwarlu', 'jitendra gurjar', 'janani l', 'r p shukla', 'valliboina venkateswarlu', 'tawseef ayoub shaikh', 'pramod kumar', 'lavanya madhuri bollipo', 'pramod kumar yadav', 'm a bazaz', 'shameem ahmad lone', 'kushal m jagtap', 'aijaz ahmad zargar', 'asad ur rahman', 'shoeb hussain', 'ikhlaq hussain', 'a.h mir', 'shahid mehraj', 'amandeep singh rehal', 'g r begh', 'sheikh amir ahsan', 'farida khurshid', 'nasir faried butt', 'mohammad rafiq teli', 'nufazil altaf ahanger', 'ajaz ul islam', 'shahnawaz ahmed', 'anil singhal', 'iqra altaf geelani', 'neyaz ahmad', 'idrees qasim', 'bilal ahmad', 'm.s. charoo', 'm hanief', 'nazir ahmad sheikh', 'harveer sing pali', 'g. a. harmain', 'mukhund dat sharma', 'sandeep rathee', 'm.f.wani', 'dinesh kumar r', 'abhijit dey', 'azar jameel', 'azher jameel', 'atikur rehman', 'yashwant mehta', 'nikita kundan', 'anshul gupta', 'pravan k katiyar', 'er. yashwant mehta', 'harkirat singh', 'mohammad zubair ansari', 'm a shah']\n",
      "\n",
      "Total missing supervisor entries: 72\n"
     ]
    }
   ],
   "source": [
    "import pandas as pd\n",
    "\n",
    "# Load data\n",
    "scholar_df = pd.read_excel(\"/Users/rajesmanna/Documents/Phd/backend/srcipts/sholar.xlsx\")\n",
    "employee_df = pd.read_excel(\"/Users/rajesmanna/Documents/Phd/backend/media/Users/employee.xlsx\")\n",
    "\n",
    "scholar_df\n",
    "\n",
    "# Normalize both columns (strip spaces and lower case for reliable comparison)\n",
    "scholar_supervisors = scholar_df[\"Supervisor\"].dropna().str.strip().str.lower().unique()\n",
    "employee_names = employee_df[\"Name\"].dropna().str.strip().str.lower().unique()\n",
    "\n",
    "# Find supervisors not in employee names\n",
    "missing_supervisors = [sup for sup in scholar_supervisors if sup not in employee_names]\n",
    "\n",
    "# Print result\n",
    "print(\"Supervisors not found in employee list:\")\n",
    "print(missing_supervisors)\n",
    "print(f\"\\nTotal missing supervisor entries: {len(missing_supervisors)}\")\n",
    "\n"
   ]
  }
 ],
 "metadata": {
  "kernelspec": {
   "display_name": "Python 3",
   "language": "python",
   "name": "python3"
  },
  "language_info": {
   "codemirror_mode": {
    "name": "ipython",
    "version": 3
   },
   "file_extension": ".py",
   "mimetype": "text/x-python",
   "name": "python",
   "nbconvert_exporter": "python",
   "pygments_lexer": "ipython3",
   "version": "3.13.1"
  }
 },
 "nbformat": 4,
 "nbformat_minor": 2
}
